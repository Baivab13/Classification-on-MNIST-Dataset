{
 "cells": [
  {
   "cell_type": "markdown",
   "metadata": {},
   "source": [
    "# <center> MNist database classification<br> <small>Réda DEHAK<br> 1 July 2020</small> </center>\n",
    "\n",
    "The goal of this lab is :\n",
    "    - Evaluate your understanding of the course\n",
    "    - Try and make a comparison of different machine learning methods\n",
    "    \n",
    "This study is based on the <A href=http://yann.lecun.com/exdb/mnist/>MNist dataset</A>. It is handwritten digits dataset with a training set of 60000 samples, and a test set of 10000 samples. It is a subset of a larger set available from NIST. The digits have been size-normalized and centered in a fixed-size image."
   ]
  },
  {
   "cell_type": "markdown",
   "metadata": {},
   "source": [
    "## Questions:\n",
    "\n",
    "- propose three different approaches to classify the MNist dataset. Compare the performance of each method and suggest solutions to improve the performance of each one. You can use all methods that you learned or not during the MSc. The goal is to obtain the best performances measure.\n",
    "- Make a video of 5 minutes maximum to justify your choices and explain your results.\n",
    "- Download the notebook and video on Teams before July 21th."
   ]
  },
  {
   "cell_type": "markdown",
   "metadata": {},
   "source": [
    "### Load the dataset\n",
    "- MNist dataset is proposed in keras.datasets toolbox, you can use this code to load the dataset or use the function mnist_load_data provided in mnist.py file"
   ]
  },
  {
   "cell_type": "code",
   "execution_count": 134,
   "metadata": {},
   "outputs": [],
   "source": [
    "import tensorflow as tf\n",
    "(x_train, y_train), (x_test, y_test) = tf.keras.datasets.mnist.load_data()"
   ]
  },
  {
   "cell_type": "markdown",
   "metadata": {},
   "source": [
    "###### The MNIST database contains 60,000 training images and 10,000 testing images taken from American Census Bureau employees and American high school students.\n",
    "###### x_train and x_test parts contain greyscale RGB codes (from 0 to 255) while y_train and y_test parts contains labels from 0 to 9 which represents which number they actually are."
   ]
  },
  {
   "cell_type": "code",
   "execution_count": 135,
   "metadata": {},
   "outputs": [
    {
     "data": {
      "text/plain": [
       "((60000, 28, 28), (60000,), (10000, 28, 28), (10000,))"
      ]
     },
     "execution_count": 135,
     "metadata": {},
     "output_type": "execute_result"
    }
   ],
   "source": [
    "x_train.shape,y_train.shape, x_test.shape, y_test.shape"
   ]
  },
  {
   "cell_type": "markdown",
   "metadata": {},
   "source": [
    "###### We visualize a sample from the dataset"
   ]
  },
  {
   "cell_type": "code",
   "execution_count": 136,
   "metadata": {},
   "outputs": [
    {
     "name": "stdout",
     "output_type": "stream",
     "text": [
      "8\n"
     ]
    },
    {
     "data": {
      "text/plain": [
       "<matplotlib.image.AxesImage at 0x2968754da08>"
      ]
     },
     "execution_count": 136,
     "metadata": {},
     "output_type": "execute_result"
    },
    {
     "data": {
      "image/png": "[encoded data removed]",
      "text/plain": [
       "<Figure size 432x288 with 1 Axes>"
      ]
     },
     "metadata": {
      "needs_background": "light"
     },
     "output_type": "display_data"
    }
   ],
   "source": [
    "import matplotlib.pyplot as plt\n",
    "%matplotlib inline\n",
    "image_index = 50001 # Range can vary from 0 to 60,000\n",
    "print(y_train[image_index]) # The label is 8\n",
    "plt.imshow(x_train[image_index], cmap='Greys')"
   ]
  },
  {
   "cell_type": "markdown",
   "metadata": {},
   "source": [
    "## First Method:\n",
    "\n",
    "### Random Forest Classifier"
   ]
  },
  {
   "cell_type": "code",
   "execution_count": 137,
   "metadata": {},
   "outputs": [],
   "source": [
    "import pandas as pd\n",
    "import numpy as np"
   ]
  },
  {
   "cell_type": "code",
   "execution_count": 138,
   "metadata": {},
   "outputs": [],
   "source": [
    "#Importing the classifier module from scikit-learn\n",
    "from sklearn.ensemble import RandomForestClassifier\n",
    "from sklearn.metrics import accuracy_score"
   ]
  },
  {
   "cell_type": "markdown",
   "metadata": {},
   "source": [
    "###### As, the sklearn classifier doesnot work with more than 2-dimensional array, we reshape the array to  2-D array so it works on the classifier."
   ]
  },
  {
   "cell_type": "code",
   "execution_count": 139,
   "metadata": {},
   "outputs": [
    {
     "data": {
      "text/plain": [
       "(60000, 784)"
      ]
     },
     "execution_count": 139,
     "metadata": {},
     "output_type": "execute_result"
    }
   ],
   "source": [
    "Xtrain = x_train.reshape(60000, 784)\n",
    "Xtest = x_test.reshape(10000, 784)\n",
    "\n",
    "\n",
    "Xtrain.shape"
   ]
  },
  {
   "cell_type": "code",
   "execution_count": 142,
   "metadata": {},
   "outputs": [],
   "source": [
    "#Normalizing the values\n",
    "Xtrain =Xtrain.astype('float32')\n",
    "Xtest = Xtest.astype('float32')\n",
    "Xtrain /= 255\n",
    "Xtest /= 255"
   ]
  },
  {
   "cell_type": "markdown",
   "metadata": {},
   "source": [
    "###### Modellling and Fitting our Classifier"
   ]
  },
  {
   "cell_type": "code",
   "execution_count": 143,
   "metadata": {},
   "outputs": [
    {
     "data": {
      "text/plain": [
       "RandomForestClassifier(bootstrap=True, class_weight=None, criterion='gini',\n",
       "                       max_depth=None, max_features='auto', max_leaf_nodes=None,\n",
       "                       min_impurity_decrease=0.0, min_impurity_split=None,\n",
       "                       min_samples_leaf=1, min_samples_split=2,\n",
       "                       min_weight_fraction_leaf=0.0, n_estimators=100,\n",
       "                       n_jobs=None, oob_score=False, random_state=None,\n",
       "                       verbose=0, warm_start=False)"
      ]
     },
     "execution_count": 143,
     "metadata": {},
     "output_type": "execute_result"
    }
   ],
   "source": [
    "RFC_clf = RandomForestClassifier(n_estimators=100)\n",
    "\n",
    "RFC_clf.fit(Xtrain, y_train)"
   ]
  },
  {
   "cell_type": "markdown",
   "metadata": {},
   "source": [
    "##### Testing and evaluating the accuracy of the model"
   ]
  },
  {
   "cell_type": "code",
   "execution_count": 144,
   "metadata": {},
   "outputs": [
    {
     "name": "stdout",
     "output_type": "stream",
     "text": [
      "Accuracy:  0.9698\n"
     ]
    }
   ],
   "source": [
    "predicted = RFC_clf.predict(Xtest)\n",
    "\n",
    "RFC_acc = accuracy_score(y_test,predicted)\n",
    "\n",
    "print(\"Accuracy: \", RFC_acc)"
   ]
  },
  {
   "cell_type": "markdown",
   "metadata": {},
   "source": [
    "#### Thus, the Random Forest Classifier had an accuracy of 0.9698 or 96.98%\n",
    "#### The algorithm can be further optimized by adjusting the hyperparameters such as increasing the number of predictors or by using cross-validation methods such as RandomizedSearchCV."
   ]
  },
  {
   "cell_type": "markdown",
   "metadata": {},
   "source": [
    "## Second Method:\n",
    "### Simple Neural Network"
   ]
  },
  {
   "cell_type": "markdown",
   "metadata": {},
   "source": [
    "We can use the Xtrain,y_train,Xtest and y_test previously computed for Simple Neural Network. \n",
    "\n",
    "#### Importing modules and Pre-processing"
   ]
  },
  {
   "cell_type": "code",
   "execution_count": 149,
   "metadata": {},
   "outputs": [],
   "source": [
    "import keras\n",
    "#Importing the necessary Keras models and layers\n",
    "from tensorflow.keras.models import Sequential\n",
    "from tensorflow.keras.layers import Dense, Conv2D, Dropout, Flatten, MaxPooling2D"
   ]
  },
  {
   "cell_type": "code",
   "execution_count": 150,
   "metadata": {},
   "outputs": [],
   "source": [
    "# Parameters for the model\n",
    "batch_size=128\n",
    "#output classes - 10 in this case\n",
    "num_classes=10\n",
    "epochs =12"
   ]
  },
  {
   "cell_type": "code",
   "execution_count": 151,
   "metadata": {
    "scrolled": true
   },
   "outputs": [
    {
     "name": "stdout",
     "output_type": "stream",
     "text": [
      "60000 train samples\n",
      "10000 test samples\n"
     ]
    }
   ],
   "source": [
    "print(Xtrain.shape[0], 'train samples')\n",
    "print(Xtest.shape[0], 'test samples')"
   ]
  },
  {
   "cell_type": "code",
   "execution_count": 152,
   "metadata": {},
   "outputs": [],
   "source": [
    "# convert class vectors to binary class matrices \n",
    "ytrain = keras.utils.to_categorical(y_train, num_classes)\n",
    "ytest = keras.utils.to_categorical(y_test, num_classes)\n"
   ]
  },
  {
   "cell_type": "markdown",
   "metadata": {},
   "source": [
    "#### Building the Model"
   ]
  },
  {
   "cell_type": "code",
   "execution_count": 153,
   "metadata": {},
   "outputs": [],
   "source": [
    "### Build Model\n",
    "SNN_model = Sequential()\n",
    "SNN_model.add(Dense(512, activation='relu', input_shape=(784,)))\n",
    "SNN_model.add(Dropout(0.2))\n",
    "SNN_model.add(Dense(512, activation='relu'))\n",
    "SNN_model.add(Dropout(0.2))\n",
    "SNN_model.add(Dense(num_classes, activation='softmax'))"
   ]
  },
  {
   "cell_type": "markdown",
   "metadata": {},
   "source": [
    "###### Dropout layer is used to counter overfitting(regularization).\n",
    "###### Dense layers define the output size. The first and second dense layer can have any value but the last dense layer should match with the output labels i.e., 10.\n",
    "###### Activation function is Rectified Linear Unit (ReLU), and Softmax."
   ]
  },
  {
   "cell_type": "markdown",
   "metadata": {},
   "source": [
    "#### Compiling and Fitting the Model:"
   ]
  },
  {
   "cell_type": "code",
   "execution_count": 154,
   "metadata": {},
   "outputs": [
    {
     "name": "stdout",
     "output_type": "stream",
     "text": [
      "Train on 60000 samples\n",
      "Epoch 1/12\n",
      "60000/60000 - 5s - loss: 0.8426 - accuracy: 0.7369\n",
      "Epoch 2/12\n",
      "60000/60000 - 4s - loss: 0.3577 - accuracy: 0.8937\n",
      "Epoch 3/12\n",
      "60000/60000 - 4s - loss: 0.2797 - accuracy: 0.9171\n",
      "Epoch 4/12\n",
      "60000/60000 - 5s - loss: 0.2315 - accuracy: 0.9306\n",
      "Epoch 5/12\n",
      "60000/60000 - 5s - loss: 0.1921 - accuracy: 0.9417\n",
      "Epoch 6/12\n",
      "60000/60000 - 5s - loss: 0.1649 - accuracy: 0.9503\n",
      "Epoch 7/12\n",
      "60000/60000 - 5s - loss: 0.1439 - accuracy: 0.9566\n",
      "Epoch 8/12\n",
      "60000/60000 - 5s - loss: 0.1253 - accuracy: 0.9627\n",
      "Epoch 9/12\n",
      "60000/60000 - 5s - loss: 0.1137 - accuracy: 0.9657\n",
      "Epoch 10/12\n",
      "60000/60000 - 5s - loss: 0.1030 - accuracy: 0.9688\n",
      "Epoch 11/12\n",
      "60000/60000 - 5s - loss: 0.0935 - accuracy: 0.9722\n",
      "Epoch 12/12\n",
      "60000/60000 - 6s - loss: 0.0853 - accuracy: 0.9734\n"
     ]
    }
   ],
   "source": [
    "#Compile Model\n",
    "SNN_model.compile(loss='sparse_categorical_crossentropy',optimizer='adam',metrics=['accuracy'])\n",
    "\n",
    "#Run Model - save metrics after each epoch in history\n",
    "history = SNN_model.fit(Xtrain, y_train,epochs=epochs,batch_size=batch_size,verbose=2)\n"
   ]
  },
  {
   "cell_type": "markdown",
   "metadata": {},
   "source": [
    "#### Evaluating the Model on Test data:"
   ]
  },
  {
   "cell_type": "code",
   "execution_count": 155,
   "metadata": {},
   "outputs": [
    {
     "name": "stdout",
     "output_type": "stream",
     "text": [
      "Test loss: 0.08903875903887674\n",
      "Test accuracy: 0.9735\n"
     ]
    }
   ],
   "source": [
    "#Score model against test data\n",
    "SNN_score = SNN_model.evaluate(Xtest, y_test, verbose=0)\n",
    "print('Test loss:', SNN_score[0])\n",
    "print('Test accuracy:', SNN_score[1])"
   ]
  },
  {
   "cell_type": "markdown",
   "metadata": {},
   "source": [
    "#### Thus, the testing on the test set yielded an accuracy of 0.9735 or 97.35%\n",
    "#### However, there is still room for improvement by adjusting hyperparameters such as learning rate, batch_size, increasing hidden layers etc.,"
   ]
  },
  {
   "cell_type": "code",
   "execution_count": 156,
   "metadata": {},
   "outputs": [
    {
     "name": "stdout",
     "output_type": "stream",
     "text": [
      "8\n"
     ]
    },
    {
     "data": {
      "image/png": "[encoded data removed]",
      "text/plain": [
       "<Figure size 432x288 with 1 Axes>"
      ]
     },
     "metadata": {
      "needs_background": "light"
     },
     "output_type": "display_data"
    }
   ],
   "source": [
    "image_index = 9900\n",
    "plt.imshow(x_test[image_index].reshape(28, 28),cmap='Greys')\n",
    "SNN_pred = SNN_model.predict(Xtest[image_index].reshape(1,784))\n",
    "print(SNN_pred.argmax())"
   ]
  },
  {
   "cell_type": "markdown",
   "metadata": {},
   "source": [
    "## Third Method:\n",
    "### Convolutional Neural Networks\n",
    "To be able to use the dataset in Keras API, we need 4-dims numpy arrays. However, as we see above, our array is 3-dims. In addition, we must normalize our data as it is always required in neural network models."
   ]
  },
  {
   "cell_type": "markdown",
   "metadata": {},
   "source": [
    "#### Reshaping the array to 4-dims so that it can work with the Keras API"
   ]
  },
  {
   "cell_type": "code",
   "execution_count": 157,
   "metadata": {},
   "outputs": [],
   "source": [
    "x_train = x_train.reshape(x_train.shape[0],28,28,1)\n",
    "x_test = x_test.reshape(x_test.shape[0],28,28,1)\n",
    "input_shape = (28,28,1)\n",
    "# Making sure that the values are float so that we can get decimal points after division\n",
    "x_train =x_train.astype('float32')\n",
    "x_test = x_test.astype('float32')"
   ]
  },
  {
   "cell_type": "markdown",
   "metadata": {},
   "source": [
    "#### Normalizing the RGB codes by dividing it to the max RGB value."
   ]
  },
  {
   "cell_type": "code",
   "execution_count": 158,
   "metadata": {},
   "outputs": [
    {
     "name": "stdout",
     "output_type": "stream",
     "text": [
      "x_train shape: (60000, 28, 28, 1)\n",
      "Number of images in x_train 60000\n",
      "Number of images in x_test 10000\n"
     ]
    }
   ],
   "source": [
    "x_train /= 255\n",
    "x_test /=255\n",
    "print('x_train shape:',x_train.shape)\n",
    "print('Number of images in x_train', x_train.shape[0])\n",
    "print('Number of images in x_test', x_test.shape[0])"
   ]
  },
  {
   "cell_type": "markdown",
   "metadata": {},
   "source": [
    "#### Building the Model"
   ]
  },
  {
   "cell_type": "code",
   "execution_count": 159,
   "metadata": {},
   "outputs": [],
   "source": [
    "#Importing the necessary Keras models and layers\n",
    "from tensorflow.keras.models import Sequential\n",
    "from tensorflow.keras.layers import Dense, Conv2D, Dropout, Flatten, MaxPooling2D"
   ]
  },
  {
   "cell_type": "code",
   "execution_count": 162,
   "metadata": {},
   "outputs": [],
   "source": [
    "#Creating the Sequential Model with the imported layers\n",
    "CNN_model= Sequential()\n",
    "CNN_model.add(Conv2D(32, kernel_size=(3,3), activation='relu', input_shape=input_shape))\n",
    "CNN_model.add(Conv2D(64, (3,3), activation='relu'))\n",
    "CNN_model.add(MaxPooling2D(pool_size=(2,2)))\n",
    "CNN_model.add(Dropout(0.25))\n",
    "CNN_model.add(Flatten())\n",
    "CNN_model.add(Dense(128, activation='relu'))\n",
    "CNN_model.add(Dropout(0.25))\n",
    "CNN_model.add(Dense(10, activation='softmax'))\n"
   ]
  },
  {
   "cell_type": "markdown",
   "metadata": {},
   "source": [
    "###### I have used kernel_size of 3X3 i.e, a matrix of 3X3 dimenstions as convolution matrix.\n",
    "###### MaxPooling2D is used to extract the most prominent features from a 2D image.\n",
    "###### Flatten is used for flattening the 2D arrays for fully connected layers.\n",
    "###### Dropout layer is used to counter overfitting(regularization).\n",
    "###### Dense layers define the output size. The first dense layer can have any value but the last dense layer should match with the output labels i.e., 10.\n",
    "###### Activation function is Rectified Linear Unit (ReLU)."
   ]
  },
  {
   "cell_type": "markdown",
   "metadata": {},
   "source": [
    "\n",
    "#### Compiling and Fitting the Model"
   ]
  },
  {
   "cell_type": "code",
   "execution_count": 163,
   "metadata": {},
   "outputs": [
    {
     "name": "stdout",
     "output_type": "stream",
     "text": [
      "Train on 60000 samples\n",
      "Epoch 1/12\n",
      "60000/60000 - 185s - loss: 0.1423 - accuracy: 0.9561\n",
      "Epoch 2/12\n",
      "60000/60000 - 185s - loss: 0.0559 - accuracy: 0.9829\n",
      "Epoch 3/12\n",
      "60000/60000 - 189s - loss: 0.0395 - accuracy: 0.9876\n",
      "Epoch 4/12\n",
      "60000/60000 - 188s - loss: 0.0320 - accuracy: 0.9897\n",
      "Epoch 5/12\n",
      "60000/60000 - 183s - loss: 0.0237 - accuracy: 0.9929\n",
      "Epoch 6/12\n",
      "60000/60000 - 183s - loss: 0.0211 - accuracy: 0.9933\n",
      "Epoch 7/12\n",
      "60000/60000 - 180s - loss: 0.0166 - accuracy: 0.9945\n",
      "Epoch 8/12\n",
      "60000/60000 - 180s - loss: 0.0157 - accuracy: 0.9946\n",
      "Epoch 9/12\n",
      "60000/60000 - 184s - loss: 0.0132 - accuracy: 0.9957\n",
      "Epoch 10/12\n",
      "60000/60000 - 189s - loss: 0.0124 - accuracy: 0.9957\n",
      "Epoch 11/12\n",
      "60000/60000 - 185s - loss: 0.0110 - accuracy: 0.9964\n",
      "Epoch 12/12\n",
      "60000/60000 - 194s - loss: 0.0123 - accuracy: 0.9959\n"
     ]
    },
    {
     "data": {
      "text/plain": [
       "<tensorflow.python.keras.callbacks.History at 0x296872f1388>"
      ]
     },
     "execution_count": 163,
     "metadata": {},
     "output_type": "execute_result"
    }
   ],
   "source": [
    "CNN_model.compile(optimizer='adam', \n",
    "              loss='sparse_categorical_crossentropy', \n",
    "              metrics=['accuracy'])\n",
    "CNN_model.fit(x=x_train,y=y_train, epochs=epochs,verbose = 2)"
   ]
  },
  {
   "cell_type": "markdown",
   "metadata": {},
   "source": [
    "###### Thus, the model had 0.9959 or 99.59% accuracy on the train set.\n",
    "###### Now, we test the model on the test set."
   ]
  },
  {
   "cell_type": "code",
   "execution_count": 164,
   "metadata": {},
   "outputs": [
    {
     "name": "stdout",
     "output_type": "stream",
     "text": [
      "10000/10000 - 4s - loss: 0.0340 - accuracy: 0.9923\n",
      "\n",
      "Test accuracy: 0.9923\n"
     ]
    }
   ],
   "source": [
    "#Evaluating the loss and accuracy of the model\n",
    "test_loss, CNN_test_acc = CNN_model.evaluate(x_test,  y_test, verbose=2)\n",
    "\n",
    "print('\\nTest accuracy:', CNN_test_acc)\n"
   ]
  },
  {
   "cell_type": "markdown",
   "metadata": {},
   "source": [
    "###### Thus, the model has 0.9923 or 99.23% accuracy on the test set, which is impressive.\n",
    "#### If we want to further ameliorate the model, we can play around with hyperparameters such as learning rate, epochs, hidden layers, optmizers etc.,"
   ]
  },
  {
   "cell_type": "code",
   "execution_count": 166,
   "metadata": {},
   "outputs": [
    {
     "name": "stdout",
     "output_type": "stream",
     "text": [
      "9\n"
     ]
    },
    {
     "data": {
      "image/png": "[encoded data removed]",
      "text/plain": [
       "<Figure size 432x288 with 1 Axes>"
      ]
     },
     "metadata": {
      "needs_background": "light"
     },
     "output_type": "display_data"
    }
   ],
   "source": [
    "image_index = 999\n",
    "plt.imshow(x_test[image_index].reshape(28, 28),cmap='Greys')\n",
    "pred = CNN_model.predict(x_test[image_index].reshape(1, 28, 28, 1))\n",
    "print(pred.argmax())"
   ]
  },
  {
   "cell_type": "markdown",
   "metadata": {},
   "source": [
    "## Comparison\n",
    "\n",
    "#### Comparing the three accuracy scores of Random Forest Classfier, Simple Neural Network and Convulated Neural Network:"
   ]
  },
  {
   "cell_type": "code",
   "execution_count": 169,
   "metadata": {},
   "outputs": [
    {
     "name": "stdout",
     "output_type": "stream",
     "text": [
      " Random Forest Classifier Test accuracy: 0.9698\n",
      "\n",
      " Simple Neural Network Test accuracy: 0.9735\n",
      "\n",
      " Convulated Neural Network Test accuracy: 0.9923\n"
     ]
    }
   ],
   "source": [
    "print(' Random Forest Classifier Test accuracy:', RFC_acc)\n",
    "print('\\n Simple Neural Network Test accuracy:', SNN_score[1])\n",
    "print('\\n Convulated Neural Network Test accuracy:', CNN_test_acc)"
   ]
  },
  {
   "cell_type": "markdown",
   "metadata": {},
   "source": [
    "## Conclusions and Perspectives:\n",
    "\n",
    "..."
   ]
  },
  {
   "cell_type": "markdown",
   "metadata": {},
   "source": [
    "#### It was observed that Convulated Neural Network had the highest accuracy with 99.23%, followed by Simple Neural Network with 97.35% accuracy and lastly by Random Forest Classifier with 96.98%.\n",
    "#### The accuracy was determined in test datasets so, even with the lowest accuracy of 96.98%, we can conclude that we have overcome overfitting for all three classifiers.\n",
    "#### As expected, neural networks proved to be better at classifying that statistical methods.\n",
    "#### It can be concluded through observation that Convolutional Neural Networks which are principally used for Image Processing is the best model for the MNIST dataset."
   ]
  }
 ],
 "metadata": {
  "kernelspec": {
   "display_name": "Python [conda env:root] *",
   "language": "python",
   "name": "conda-root-py"
  },
  "language_info": {
   "codemirror_mode": {
    "name": "ipython",
    "version": 3
   },
   "file_extension": ".py",
   "mimetype": "text/x-python",
   "name": "python",
   "nbconvert_exporter": "python",
   "pygments_lexer": "ipython3",
   "version": "3.7.4"
  }
 },
 "nbformat": 4,
 "nbformat_minor": 4
}
